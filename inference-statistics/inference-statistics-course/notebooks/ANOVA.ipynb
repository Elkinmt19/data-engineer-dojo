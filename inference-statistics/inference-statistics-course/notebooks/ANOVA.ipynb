{
  "nbformat": 4,
  "nbformat_minor": 0,
  "metadata": {
    "colab": {
      "name": "ANOVA.ipynb",
      "provenance": [],
      "collapsed_sections": [],
      "toc_visible": true
    },
    "kernelspec": {
      "name": "python3",
      "display_name": "Python 3"
    },
    "language_info": {
      "name": "python"
    }
  },
  "cells": [
    {
      "cell_type": "markdown",
      "source": [
        "# Análisis de la Varianza\n",
        "## ANOVA de una vía "
      ],
      "metadata": {
        "id": "AK5h1_tAbASe"
      }
    },
    {
      "cell_type": "markdown",
      "source": [
        "Importemos las librerias y modulos necesarios para poder realizar las diferentes operaciones del notebook."
      ],
      "metadata": {
        "id": "0vNuhLPYekjB"
      }
    },
    {
      "cell_type": "code",
      "execution_count": 52,
      "metadata": {
        "id": "APq4oGhrIovB"
      },
      "outputs": [],
      "source": [
        "# External imports\n",
        "import numpy as np\n",
        "import pandas as pd\n",
        "import matplotlib.pyplot as plt\n",
        "import scipy.stats as stats"
      ]
    },
    {
      "cell_type": "markdown",
      "source": [
        "Generemos de forma controlado y sintetica las muestras que vamos a estudiar y para las cuales vamos a realizar el análisis de varianza o ANOVA."
      ],
      "metadata": {
        "id": "f_BBj15_eweQ"
      }
    },
    {
      "cell_type": "code",
      "source": [
        "np.random.seed(2020)\n",
        "voters_race = np.random.choice(\n",
        "    a = [\"asiatico\",\"blanco\",\"negro\",\"hispano\",\"otros\"],\n",
        "    p = [0.05,0.50,0.20,0.10,0.15],\n",
        "    size = 1000\n",
        ")\n",
        "voters_age = stats.poisson.rvs(loc=18, mu=25, size=1000)\n",
        "\n",
        "voters = pd.DataFrame({\"race\":voters_race, \"age\":voters_age})\n",
        "treatments = voters.groupby(\"race\").groups"
      ],
      "metadata": {
        "id": "hDUf06XPbel2"
      },
      "execution_count": 53,
      "outputs": []
    },
    {
      "cell_type": "code",
      "source": [
        "asiatico = voters_age[treatments[\"asiatico\"]]\n",
        "blanco = voters_age[treatments[\"blanco\"]]\n",
        "negro = voters_age[treatments[\"negro\"]]\n",
        "hispano = voters_age[treatments[\"hispano\"]]\n",
        "otros = voters_age[treatments[\"otros\"]]"
      ],
      "metadata": {
        "id": "DJ_6It0_cU9j"
      },
      "execution_count": 54,
      "outputs": []
    },
    {
      "cell_type": "markdown",
      "source": [
        "Planteemos el constraste a realizar, en este caso queremos hacer un contraste teniendo como hipotesis nule que todas las medias poblaciones de las diferentes poblaciones son iguales entre si y como hipotesis alternativa que al menos una comparación entre medias es diferente."
      ],
      "metadata": {
        "id": "bUkzPUz5e8Kt"
      }
    },
    {
      "cell_type": "markdown",
      "source": [
        "La definición del contraste a realizar es la siguiente:\n",
        "\n",
        "$$\n",
        "\\left\\{\n",
        "\\begin{array}{ll}\n",
        "H_0: & \\mu_1 = \\mu_2 = \\mu_3 = \\mu_4 = \\mu_5\\\\\n",
        "H_1: & ∃\\ i, j : mu_i \\neq \\mu_j \n",
        "\\end{array}\n",
        "\\right.\n",
        "$$"
      ],
      "metadata": {
        "id": "TaCcOQ92dsy0"
      }
    },
    {
      "cell_type": "code",
      "source": [
        "# Use the <f_oneway> function in order to calculate the result of the ANOVA analysis.\n",
        "stats.f_oneway(asiatico, blanco, negro, hispano, otros)"
      ],
      "metadata": {
        "colab": {
          "base_uri": "https://localhost:8080/"
        },
        "id": "XzcZtI9Oef5Z",
        "outputId": "274683df-c5cd-424c-f13b-eb64a1babc22"
      },
      "execution_count": 55,
      "outputs": [
        {
          "output_type": "execute_result",
          "data": {
            "text/plain": [
              "F_onewayResult(statistic=0.34125500004740417, pvalue=0.8501763879300095)"
            ]
          },
          "metadata": {},
          "execution_count": 55
        }
      ]
    },
    {
      "cell_type": "markdown",
      "source": [
        "El valor p para este contraste se puede realizar usando la siguiente formula:\n",
        "\n",
        "$$p = P\\left(F_{k-1, N-k}\\geq\\frac{MS_{Tr}}{MS_{E}}\\right)$$"
      ],
      "metadata": {
        "id": "N2gWlD_-gBXT"
      }
    },
    {
      "cell_type": "code",
      "source": [
        "# Let's analize the behavior of the populations graphically.\n",
        "import seaborn as sns\n",
        "sns.boxplot(x=voters[\"race\"], y=voters[\"age\"]);"
      ],
      "metadata": {
        "colab": {
          "base_uri": "https://localhost:8080/",
          "height": 279
        },
        "id": "R9NAVUFFf3EV",
        "outputId": "31d8f85e-cd14-4440-aa57-e0dccb156dec"
      },
      "execution_count": 56,
      "outputs": [
        {
          "output_type": "display_data",
          "data": {
            "text/plain": [
              "<Figure size 432x288 with 1 Axes>"
            ],
            "image/png": "[encoded data removed]"
          },
          "metadata": {
            "needs_background": "light"
          }
        }
      ]
    },
    {
      "cell_type": "markdown",
      "source": [
        "## ANOVA de una vía con comparación por pares"
      ],
      "metadata": {
        "id": "abOepakfhhgs"
      }
    },
    {
      "cell_type": "markdown",
      "source": [
        "Generemos de forma controlado y sintetica las muestras que vamos a estudiar y para las cuales vamos a realizar el análisis de varianza o ANOVA."
      ],
      "metadata": {
        "id": "VH-Exf-3imJl"
      }
    },
    {
      "cell_type": "code",
      "source": [
        "np.random.seed(2020)\n",
        "voters_race = np.random.choice(\n",
        "    a = [\"asiatico\",\"blanco\",\"negro\",\"hispano\",\"otros\"],\n",
        "    p = [0.05,0.50,0.20,0.10,0.15],\n",
        "    size = 1000\n",
        ")\n",
        "white_ages = stats.poisson.rvs(loc=18, mu=33, size=1000)\n",
        "voters_age = stats.poisson.rvs(loc=18,mu=28,size=1000)\n",
        "voters_age = np.where(voters_race == \"blanco\", white_ages, voters_age)"
      ],
      "metadata": {
        "id": "N82E9ZxGf-d7"
      },
      "execution_count": 57,
      "outputs": []
    },
    {
      "cell_type": "code",
      "source": [
        "voters = pd.DataFrame({\"race\":voters_race, \"age\":voters_age})\n",
        "treatments = voters.groupby(\"race\").groups"
      ],
      "metadata": {
        "id": "dyNLFe-njORi"
      },
      "execution_count": 58,
      "outputs": []
    },
    {
      "cell_type": "code",
      "source": [
        "asiatico = voters_age[treatments[\"asiatico\"]]\n",
        "blanco = voters_age[treatments[\"blanco\"]]\n",
        "negro = voters_age[treatments[\"negro\"]]\n",
        "hispano = voters_age[treatments[\"hispano\"]]\n",
        "otros = voters_age[treatments[\"otros\"]]"
      ],
      "metadata": {
        "id": "XEiz1uHnjX0e"
      },
      "execution_count": 59,
      "outputs": []
    },
    {
      "cell_type": "code",
      "source": [
        "# Use the <f_oneway> function in order to calculate the result of the ANOVA analysis.\n",
        "stats.f_oneway(asiatico, blanco, negro, hispano, otros)"
      ],
      "metadata": {
        "colab": {
          "base_uri": "https://localhost:8080/"
        },
        "id": "tqXO41jsjbsn",
        "outputId": "bd0e0fc4-c6d7-4ecb-f145-5108a953badd"
      },
      "execution_count": 60,
      "outputs": [
        {
          "output_type": "execute_result",
          "data": {
            "text/plain": [
              "F_onewayResult(statistic=45.463354140190084, pvalue=4.2073377186036713e-35)"
            ]
          },
          "metadata": {},
          "execution_count": 60
        }
      ]
    },
    {
      "cell_type": "markdown",
      "source": [
        "Encontremos el o los contrastes que no estan dejando al ANOVA aceptar la hipotesis nula."
      ],
      "metadata": {
        "id": "4ZT3yt5Kjkq5"
      }
    },
    {
      "cell_type": "code",
      "source": [
        "races = [\"asiatico\",\"blanco\",\"negro\",\"hispano\",\"otros\"]\n",
        "race_pairs = []\n",
        "for race1 in range(4):\n",
        "  for race2 in range(race1+1,5):\n",
        "    race_pairs.append((races[race1], races[race2]))\n",
        "race_pairs"
      ],
      "metadata": {
        "colab": {
          "base_uri": "https://localhost:8080/"
        },
        "id": "7iGlBofWjkL_",
        "outputId": "e406ae93-794c-4a3e-9954-e27c241b349c"
      },
      "execution_count": 61,
      "outputs": [
        {
          "output_type": "execute_result",
          "data": {
            "text/plain": [
              "[('asiatico', 'blanco'),\n",
              " ('asiatico', 'negro'),\n",
              " ('asiatico', 'hispano'),\n",
              " ('asiatico', 'otros'),\n",
              " ('blanco', 'negro'),\n",
              " ('blanco', 'hispano'),\n",
              " ('blanco', 'otros'),\n",
              " ('negro', 'hispano'),\n",
              " ('negro', 'otros'),\n",
              " ('hispano', 'otros')]"
            ]
          },
          "metadata": {},
          "execution_count": 61
        }
      ]
    },
    {
      "cell_type": "code",
      "source": [
        "for race1, race2 in race_pairs:\n",
        "  print(\"**** Comparación de las poblaciones {p1} y {p2}\".format(p1=race1, p2=race2))\n",
        "  tt = stats.ttest_ind(voters_age[treatments[race1]], voters_age[treatments[race2]], equal_var=True)\n",
        "  print(tt)"
      ],
      "metadata": {
        "colab": {
          "base_uri": "https://localhost:8080/"
        },
        "id": "HKvpx5xpkJcu",
        "outputId": "6861798b-ef56-48d0-a49d-8a8f5cdb3660"
      },
      "execution_count": 62,
      "outputs": [
        {
          "output_type": "stream",
          "name": "stdout",
          "text": [
            "**** Comparación de las poblaciones asiatico y blanco\n",
            "Ttest_indResult(statistic=-6.008581613895844, pvalue=3.3932200462588246e-09)\n",
            "**** Comparación de las poblaciones asiatico y negro\n",
            "Ttest_indResult(statistic=-0.9365601540525899, pvalue=0.34987098538665595)\n",
            "**** Comparación de las poblaciones asiatico y hispano\n",
            "Ttest_indResult(statistic=0.1726228075986723, pvalue=0.8631990207756343)\n",
            "**** Comparación de las poblaciones asiatico y otros\n",
            "Ttest_indResult(statistic=-0.7202832776251177, pvalue=0.4722311475285279)\n",
            "**** Comparación de las poblaciones blanco y negro\n",
            "Ttest_indResult(statistic=9.574582080618521, pvalue=1.6424565561685662e-20)\n",
            "**** Comparación de las poblaciones blanco y hispano\n",
            "Ttest_indResult(statistic=8.259362185083596, pvalue=9.461185767908647e-16)\n",
            "**** Comparación de las poblaciones blanco y otros\n",
            "Ttest_indResult(statistic=8.199665103361262, pvalue=1.2916440498166313e-15)\n",
            "**** Comparación de las poblaciones negro y hispano\n",
            "Ttest_indResult(statistic=1.4348772049977305, pvalue=0.15237073511689328)\n",
            "**** Comparación de las poblaciones negro y otros\n",
            "Ttest_indResult(statistic=0.14045967222439085, pvalue=0.8883776125607525)\n",
            "**** Comparación de las poblaciones hispano y otros\n",
            "Ttest_indResult(statistic=-1.1205269014267734, pvalue=0.26363799289862283)\n"
          ]
        }
      ]
    },
    {
      "cell_type": "code",
      "source": [
        "from statsmodels.stats.multicomp import pairwise_tukeyhsd\n",
        "tukey = pairwise_tukeyhsd(\n",
        "    endog=voters_age,\n",
        "    groups=voters_race,\n",
        "    alpha=0.05\n",
        ")"
      ],
      "metadata": {
        "id": "RYFUCclmkxPo"
      },
      "execution_count": 63,
      "outputs": []
    },
    {
      "cell_type": "code",
      "source": [
        "tukey.summary()"
      ],
      "metadata": {
        "colab": {
          "base_uri": "https://localhost:8080/",
          "height": 271
        },
        "id": "2y7D3Vs5lELY",
        "outputId": "2c61de32-369c-4775-9bc2-8d4996befb40"
      },
      "execution_count": 64,
      "outputs": [
        {
          "output_type": "execute_result",
          "data": {
            "text/plain": [
              "<class 'statsmodels.iolib.table.SimpleTable'>"
            ],
            "text/html": [
              "<table class=\"simpletable\">\n",
              "<caption>Multiple Comparison of Means - Tukey HSD, FWER=0.05</caption>\n",
              "<tr>\n",
              "   <th>group1</th>  <th>group2</th>  <th>meandiff</th>  <th>p-adj</th>  <th>lower</th>   <th>upper</th>  <th>reject</th>\n",
              "</tr>\n",
              "<tr>\n",
              "  <td>asiatico</td> <td>blanco</td>   <td>5.2112</td>   <td>0.001</td> <td>2.9319</td>  <td>7.4904</td>   <td>True</td> \n",
              "</tr>\n",
              "<tr>\n",
              "  <td>asiatico</td> <td>hispano</td>  <td>-0.1473</td>   <td>0.9</td>  <td>-2.8418</td> <td>2.5472</td>   <td>False</td>\n",
              "</tr>\n",
              "<tr>\n",
              "  <td>asiatico</td>  <td>negro</td>   <td>0.7505</td>    <td>0.9</td>  <td>-1.6689</td> <td>3.1698</td>   <td>False</td>\n",
              "</tr>\n",
              "<tr>\n",
              "  <td>asiatico</td>  <td>otros</td>   <td>0.6682</td>    <td>0.9</td>  <td>-1.8516</td>  <td>3.188</td>   <td>False</td>\n",
              "</tr>\n",
              "<tr>\n",
              "   <td>blanco</td>  <td>hispano</td>  <td>-5.3585</td>  <td>0.001</td> <td>-7.085</td>  <td>-3.6319</td>  <td>True</td> \n",
              "</tr>\n",
              "<tr>\n",
              "   <td>blanco</td>   <td>negro</td>   <td>-4.4607</td>  <td>0.001</td> <td>-5.7152</td> <td>-3.2061</td>  <td>True</td> \n",
              "</tr>\n",
              "<tr>\n",
              "   <td>blanco</td>   <td>otros</td>   <td>-4.5429</td>  <td>0.001</td> <td>-5.9816</td> <td>-3.1042</td>  <td>True</td> \n",
              "</tr>\n",
              "<tr>\n",
              "   <td>hispano</td>  <td>negro</td>   <td>0.8978</td>  <td>0.6756</td> <td>-1.0099</td> <td>2.8054</td>   <td>False</td>\n",
              "</tr>\n",
              "<tr>\n",
              "   <td>hispano</td>  <td>otros</td>   <td>0.8155</td>  <td>0.7834</td> <td>-1.218</td>   <td>2.849</td>   <td>False</td>\n",
              "</tr>\n",
              "<tr>\n",
              "    <td>negro</td>   <td>otros</td>   <td>-0.0823</td>   <td>0.9</td>  <td>-1.7339</td> <td>1.5694</td>   <td>False</td>\n",
              "</tr>\n",
              "</table>"
            ]
          },
          "metadata": {},
          "execution_count": 64
        }
      ]
    },
    {
      "cell_type": "code",
      "source": [
        "tukey.plot_simultaneous()\n",
        "plt.vlines(x=46.46, ymin=-0.5, ymax=4.5, color=\"red\");"
      ],
      "metadata": {
        "colab": {
          "base_uri": "https://localhost:8080/",
          "height": 390
        },
        "id": "FncgAsyqmORB",
        "outputId": "be580f7b-51d2-4d69-c47c-a23e4d159060"
      },
      "execution_count": 65,
      "outputs": [
        {
          "output_type": "display_data",
          "data": {
            "text/plain": [
              "<Figure size 720x432 with 1 Axes>"
            ],
            "image/png": "[encoded data removed]"
          },
          "metadata": {
            "needs_background": "light"
          }
        }
      ]
    },
    {
      "cell_type": "markdown",
      "source": [
        "## Normalidad de todas las subpoblaciones\n",
        "\n",
        "- La población i-ésima es Normal"
      ],
      "metadata": {
        "id": "Awn1192Gmwbn"
      }
    },
    {
      "cell_type": "code",
      "source": [
        "from statsmodels.stats.diagnostic import lilliefors\n",
        "print(f\"asiatico: {lilliefors(x=asiatico, dist='norm')}\")\n",
        "print(f\"blanco: {lilliefors(x=blanco, dist='norm')}\")\n",
        "print(f\"negro: {lilliefors(x=negro, dist='norm')}\")\n",
        "print(f\"hispano: {lilliefors(x=hispano, dist='norm')}\")\n",
        "print(f\"otros: {lilliefors(x=otros, dist='norm')}\")"
      ],
      "metadata": {
        "colab": {
          "base_uri": "https://localhost:8080/"
        },
        "id": "YzZwpb-nmwAF",
        "outputId": "47c7b724-8359-4562-f2a0-d853aa7cfd55"
      },
      "execution_count": 66,
      "outputs": [
        {
          "output_type": "stream",
          "name": "stdout",
          "text": [
            "asiatico: (0.10687211099450733, 0.2)\n",
            "blanco: (0.05209949537699465, 0.0022334262753635242)\n",
            "negro: (0.070138244256575, 0.014615275783783289)\n",
            "hispano: (0.10473875438620123, 0.01442529486020124)\n",
            "otros: (0.07319733042103849, 0.05668875874657659)\n"
          ]
        }
      ]
    },
    {
      "cell_type": "markdown",
      "source": [
        "## Homocedasticidad\n",
        "\n",
        "- La igualdad de varianzas $\\sigma_i^2$ son iguales para todo $i$."
      ],
      "metadata": {
        "id": "APhKD3Q8oAFz"
      }
    },
    {
      "cell_type": "code",
      "source": [
        "from scipy.stats import bartlett\n",
        "bartlett(asiatico, blanco, negro, hispano, otros)"
      ],
      "metadata": {
        "colab": {
          "base_uri": "https://localhost:8080/"
        },
        "id": "2wu79qoEn_eY",
        "outputId": "3f492bde-844b-4f8d-dd9d-61e319098c1b"
      },
      "execution_count": 67,
      "outputs": [
        {
          "output_type": "execute_result",
          "data": {
            "text/plain": [
              "BartlettResult(statistic=12.098024001177128, pvalue=0.016637026834818578)"
            ]
          },
          "metadata": {},
          "execution_count": 67
        }
      ]
    }
  ]
}