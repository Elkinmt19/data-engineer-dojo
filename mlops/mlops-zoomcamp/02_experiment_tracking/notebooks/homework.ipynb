{
 "cells": [
  {
   "cell_type": "markdown",
   "metadata": {},
   "source": [
    "# Homework solution - 02 experiment tracking\n",
    "\n",
    "In this notebook are the answers of the homework of the module 02 of the course (Experiment Tracking)."
   ]
  },
  {
   "cell_type": "code",
   "execution_count": 8,
   "metadata": {},
   "outputs": [],
   "source": [
    "# Built-in imports\n",
    "import os\n",
    "\n",
    "# External imports\n",
    "from mlflow.entities import ViewType\n",
    "from mlflow.tracking import MlflowClient\n",
    "\n",
    "# Own imports\n",
    "from scripts import get_path_dir as gpd\n",
    "\n",
    "# Define the path to the data directory\n",
    "DATA_DIR = gpd.get_desired_folder_path(\"data\")"
   ]
  },
  {
   "cell_type": "markdown",
   "metadata": {},
   "source": [
    "## Q1. Install MLflow"
   ]
  },
  {
   "cell_type": "code",
   "execution_count": 2,
   "metadata": {},
   "outputs": [
    {
     "name": "stdout",
     "output_type": "stream",
     "text": [
      "The version of MLflow that i installed is the following: mlflow, version 1.26.1\n",
      "\n"
     ]
    }
   ],
   "source": [
    "mlflow_version = os.popen('mlflow --version')\n",
    "print(f\"The version of MLflow that i installed is the following: {mlflow_version.read()}\")"
   ]
  },
  {
   "cell_type": "markdown",
   "metadata": {},
   "source": [
    "## Q2. Download and preprocess the data"
   ]
  },
  {
   "cell_type": "code",
   "execution_count": 3,
   "metadata": {},
   "outputs": [],
   "source": [
    "# Run the <preprocess_pipeline.py> file in order to preprocess the datasets\n",
    "_ = os.system(f'python ../scripts/preprocess_pipeline.py --raw_data_path \"{DATA_DIR}\" --dest_path ../artifacts' )"
   ]
  },
  {
   "cell_type": "code",
   "execution_count": 7,
   "metadata": {},
   "outputs": [
    {
     "name": "stdout",
     "output_type": "stream",
     "text": [
      "The number of resulted files is: 4\n"
     ]
    }
   ],
   "source": [
    "artifacts_dir_ls = os.popen('ls ../artifacts/ | wc -l')\n",
    "print(f\"The number of resulted files is: {int(artifacts_dir_ls.read()) - 1}\")"
   ]
  },
  {
   "cell_type": "markdown",
   "metadata": {},
   "source": [
    "## Q3. Train a model with autolog"
   ]
  },
  {
   "cell_type": "code",
   "execution_count": 11,
   "metadata": {},
   "outputs": [],
   "source": [
    "# Run the <train.py> file in order to train a simple random forest model to predict the time duration of a taxi ride\n",
    "_ = os.system(f'python ../scripts/train.py --data_path ../artifacts')"
   ]
  },
  {
   "cell_type": "code",
   "execution_count": 26,
   "metadata": {},
   "outputs": [],
   "source": [
    "# Define the MLflow client API\n",
    "client = MlflowClient()\n",
    "\n",
    "# Get the run_id os the first run\n",
    "runs = client.search_runs(\n",
    "    experiment_ids='0',\n",
    "    run_view_type=ViewType.ACTIVE_ONLY,\n",
    "    max_results=10,\n",
    "    order_by=[\"attribute.start_time ASC\"]\n",
    ")\n",
    "id_first_run = runs[0].info.run_id"
   ]
  },
  {
   "cell_type": "code",
   "execution_count": 27,
   "metadata": {},
   "outputs": [
    {
     "name": "stdout",
     "output_type": "stream",
     "text": [
      "The number of logged params is: 17\n"
     ]
    }
   ],
   "source": [
    "params_dir_ls = os.popen(f'ls mlruns/0/{id_first_run}/params/ | wc -l')\n",
    "print(f\"The number of logged params is: {int(params_dir_ls.read())}\")"
   ]
  },
  {
   "cell_type": "markdown",
   "metadata": {},
   "source": [
    "## Q4. Launch the tracking server locally"
   ]
  },
  {
   "cell_type": "markdown",
   "metadata": {},
   "source": [
    "In addition to `backend-store-uri`, it is important to use the `default-artifact-root` param too."
   ]
  },
  {
   "cell_type": "markdown",
   "metadata": {},
   "source": [
    "## Q5. Tune the hyperparameters of the model"
   ]
  },
  {
   "cell_type": "code",
   "execution_count": 28,
   "metadata": {},
   "outputs": [
    {
     "name": "stderr",
     "output_type": "stream",
     "text": [
      "2022/05/30 18:57:37 INFO mlflow.tracking.fluent: Experiment with name 'random-forest-hyperopt' does not exist. Creating a new experiment.\n"
     ]
    },
    {
     "name": "stdout",
     "output_type": "stream",
     "text": [
      "100%|██████████| 50/50 [06:23<00:00,  7.67s/trial, best loss: 6.6284257482044735]\n"
     ]
    }
   ],
   "source": [
    "# Run the <hpo.py> file in order to make a hyperparameter optimization of the Random Forest model\n",
    "_ = os.system(f'python ../scripts/hpo.py --data_path ../artifacts')"
   ]
  },
  {
   "cell_type": "code",
   "execution_count": 38,
   "metadata": {},
   "outputs": [],
   "source": [
    "# Define important constant variables\n",
    "MLFLOW_TRACKING_URI = \"http://127.0.0.1:5000\"\n",
    "HPO_EXPERIMENT_NAME = \"random-forest-hyperopt\"\n",
    "\n",
    "# Define the MLflow client API\n",
    "client = MlflowClient(tracking_uri=MLFLOW_TRACKING_URI)\n",
    "\n",
    "# Get the run with the lowest rsme\n",
    "experiment = client.get_experiment_by_name(HPO_EXPERIMENT_NAME)\n",
    "runs = client.search_runs(\n",
    "    experiment_ids=experiment.experiment_id,\n",
    "    run_view_type=ViewType.ACTIVE_ONLY,\n",
    "    max_results=1,\n",
    "    order_by=[\"metrics.rmse ASC\"]\n",
    ")\n",
    "\n",
    "lowest_rmse = runs[0].data.metrics['rmse']"
   ]
  },
  {
   "cell_type": "code",
   "execution_count": 37,
   "metadata": {},
   "outputs": [
    {
     "name": "stdout",
     "output_type": "stream",
     "text": [
      "The lowest value of rmse got is: 6.6284\n"
     ]
    }
   ],
   "source": [
    "print(f\"The lowest value of rmse got is: {lowest_rmse:.4f}\")"
   ]
  },
  {
   "cell_type": "markdown",
   "metadata": {},
   "source": [
    "## Q6. Promote the best model to the model registry"
   ]
  },
  {
   "cell_type": "code",
   "execution_count": 40,
   "metadata": {},
   "outputs": [
    {
     "name": "stderr",
     "output_type": "stream",
     "text": [
      "Registered model 'nyc-taxi-random-forest' already exists. Creating a new version of this model...\n",
      "2022/05/30 19:41:20 INFO mlflow.tracking._model_registry.client: Waiting up to 300 seconds for model version to finish creation.                     Model name: nyc-taxi-random-forest, version 2\n",
      "Created version '2' of model 'nyc-taxi-random-forest'.\n"
     ]
    }
   ],
   "source": [
    "# Run the <register_model.py> file in order to registry the best model in the model registry\n",
    "_ = os.system(f'python ../scripts/register_model.py --data_path ../artifacts')"
   ]
  },
  {
   "cell_type": "code",
   "execution_count": 41,
   "metadata": {},
   "outputs": [],
   "source": [
    "# Define important constant variables\n",
    "HPO_EXPERIMENT_NAME = \"random-forest-best-models\"\n",
    "\n",
    "# Get the run with the lowest test_rsme\n",
    "experiment = client.get_experiment_by_name(HPO_EXPERIMENT_NAME)\n",
    "runs = client.search_runs(\n",
    "    experiment_ids=experiment.experiment_id,\n",
    "    run_view_type=ViewType.ACTIVE_ONLY,\n",
    "    max_results=1,\n",
    "    order_by=[\"metrics.rmse ASC\"]\n",
    ")\n",
    "\n",
    "lowest_test_rmse = runs[0].data.metrics['test_rmse']"
   ]
  },
  {
   "cell_type": "code",
   "execution_count": 42,
   "metadata": {},
   "outputs": [
    {
     "name": "stdout",
     "output_type": "stream",
     "text": [
      "The lowest value of test rmse got is: 6.5489\n"
     ]
    }
   ],
   "source": [
    "print(f\"The lowest value of test rmse got is: {lowest_test_rmse:.4f}\")"
   ]
  }
 ],
 "metadata": {
  "interpreter": {
   "hash": "d7a4fee0164ac13b4e88cd7c8b0b3f09a6c0d6348c60b374e0be17ede752dc9d"
  },
  "kernelspec": {
   "display_name": "venv",
   "language": "python",
   "name": "venv"
  },
  "language_info": {
   "codemirror_mode": {
    "name": "ipython",
    "version": 3
   },
   "file_extension": ".py",
   "mimetype": "text/x-python",
   "name": "python",
   "nbconvert_exporter": "python",
   "pygments_lexer": "ipython3",
   "version": "3.8.9"
  },
  "orig_nbformat": 4
 },
 "nbformat": 4,
 "nbformat_minor": 2
}
