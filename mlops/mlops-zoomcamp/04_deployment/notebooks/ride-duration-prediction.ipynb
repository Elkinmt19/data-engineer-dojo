{
 "cells": [
  {
   "cell_type": "markdown",
   "metadata": {},
   "source": [
    "# Ride duration model implementation\n",
    "\n",
    "In this notebook is implemented a simple application that takes the `lin_reg.bin` model developed and built in the first module of this course ([Introduction to MLOps](../../01_introduction/)) and make a simple prediction using the `fhv_tripdata_2021-02.parquet` dataset."
   ]
  },
  {
   "cell_type": "code",
   "execution_count": 125,
   "metadata": {},
   "outputs": [],
   "source": [
    "# Built-in imports\n",
    "import os\n",
    "from datetime import datetime\n",
    "\n",
    "# External imports\n",
    "import pickle\n",
    "import pandas as pd\n",
    "\n",
    "# Own imports\n",
    "from scripts import get_path_dir as gpd\n",
    "\n",
    "# Define some important directories\n",
    "MODEL_DIR = os.path.join(\n",
    "    gpd.get_desired_folder_path(\"01_introduction\"), \n",
    "    \"models\"\n",
    ")\n",
    "DATA_DIR = gpd.get_desired_folder_path(\"data\")"
   ]
  },
  {
   "cell_type": "code",
   "execution_count": 115,
   "metadata": {},
   "outputs": [],
   "source": [
    "with open(os.path.join(MODEL_DIR,'lin_reg.bin'), 'rb') as f_in:\n",
    "    dv, lr = pickle.load(f_in)"
   ]
  },
  {
   "cell_type": "code",
   "execution_count": 120,
   "metadata": {},
   "outputs": [],
   "source": [
    "CATEGORICAL = ['PUlocationID', 'DOlocationID']\n",
    "\n",
    "def read_data(filename):\n",
    "    df = pd.read_parquet(filename)\n",
    "    \n",
    "    df['duration'] = df[\"dropOff_datetime\"] - df[\"pickup_datetime\"]\n",
    "    df['duration'] = df[\"duration\"].dt.total_seconds() / 60\n",
    "\n",
    "    df = df[(df[\"duration\"] >= 1) & (df[\"duration\"] <= 60)]\n",
    "\n",
    "    df[CATEGORICAL] = df[CATEGORICAL].fillna(-1).astype('float').astype('str')\n",
    "    \n",
    "    return df"
   ]
  },
  {
   "cell_type": "code",
   "execution_count": 121,
   "metadata": {},
   "outputs": [],
   "source": [
    "df = read_data(os.path.join(DATA_DIR, \"fhv_tripdata_2021-02.parquet\"))"
   ]
  },
  {
   "cell_type": "code",
   "execution_count": 122,
   "metadata": {},
   "outputs": [],
   "source": [
    "dicts = df[CATEGORICAL].to_dict(orient='records')\n",
    "X_val = dv.transform(dicts)\n",
    "y_pred = lr.predict(X_val)"
   ]
  },
  {
   "cell_type": "markdown",
   "metadata": {},
   "source": [
    "## Let's analyze the predictions\n",
    "In this section of the notebooks are going to be calculated and implemented some of the tasks that were indicated in the homework of this module."
   ]
  },
  {
   "cell_type": "code",
   "execution_count": 123,
   "metadata": {},
   "outputs": [
    {
     "name": "stdout",
     "output_type": "stream",
     "text": [
      "The mean of the predicted values is 16.191691681964873\n"
     ]
    }
   ],
   "source": [
    "print(f\"The mean of the predicted values is {y_pred.mean()}\")"
   ]
  },
  {
   "cell_type": "code",
   "execution_count": 137,
   "metadata": {},
   "outputs": [],
   "source": [
    "df_resulted = pd.DataFrame()\n",
    "df_resulted['ride_id'] = f'{datetime.today().year:04d}/{datetime.today().month:02d}_' + df.index.astype('str')\n",
    "df_resulted[\"predictions\"] = y_pred\n",
    "\n",
    "df.to_parquet(\n",
    "    os.path.join(\n",
    "        DATA_DIR,\n",
    "        \"predictions\",\n",
    "        f\"{datetime.today()}-fhv_tripdata_duration_ride.parquet\"\n",
    "    ),\n",
    "    engine='pyarrow',\n",
    "    compression=None,\n",
    "    index=False\n",
    ")"
   ]
  },
  {
   "cell_type": "code",
   "execution_count": 140,
   "metadata": {},
   "outputs": [
    {
     "name": "stdout",
     "output_type": "stream",
     "text": [
      "[NbConvertApp] Converting notebook ride-duration-prediction.ipynb to script\n",
      "[NbConvertApp] Writing 2219 bytes to ../scripts/ride-duration.py.py\n"
     ]
    }
   ],
   "source": [
    "!jupyter nbconvert --to script ride-duration-prediction.ipynb  --output ../scripts/ride-duration.py"
   ]
  }
 ],
 "metadata": {
  "kernelspec": {
   "display_name": "Python 3.8.9 ('venv': venv)",
   "language": "python",
   "name": "python3"
  },
  "language_info": {
   "codemirror_mode": {
    "name": "ipython",
    "version": 3
   },
   "file_extension": ".py",
   "mimetype": "text/x-python",
   "name": "python",
   "nbconvert_exporter": "python",
   "pygments_lexer": "ipython3",
   "version": "3.8.9"
  },
  "orig_nbformat": 4,
  "vscode": {
   "interpreter": {
    "hash": "6b34482e07756c7b24512b63eb423d10b52046eb700631418984770c5d28ba4d"
   }
  }
 },
 "nbformat": 4,
 "nbformat_minor": 2
}
