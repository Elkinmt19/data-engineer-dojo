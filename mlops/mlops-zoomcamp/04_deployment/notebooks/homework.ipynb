{
 "cells": [
  {
   "cell_type": "markdown",
   "metadata": {},
   "source": [
    "# Homework solution - 04 Model Deployment\n",
    "\n",
    "In this notebook are the answers of the homework of the module 04 of the course (Model Deployment)."
   ]
  },
  {
   "cell_type": "code",
   "execution_count": 7,
   "metadata": {},
   "outputs": [],
   "source": [
    "# Built-in imports\n",
    "import os\n",
    "import json\n",
    "\n",
    "# External imports\n",
    "import pandas as pd\n",
    "\n",
    "# Own imports\n",
    "from scripts import get_path_dir as gpd\n",
    "\n",
    "DATA_DIR = gpd.get_desired_folder_path(\"data\")"
   ]
  },
  {
   "cell_type": "markdown",
   "metadata": {},
   "source": [
    "## Q1. Notebook"
   ]
  },
  {
   "cell_type": "markdown",
   "metadata": {},
   "source": [
    "The mean of the predicted duration for the `fhv_tripdata_2021-02.parquet` dataset is `16.191691681964873`.\n",
    "\n",
    "Refer to [ride-duration-prediction](ride-duration-prediction.ipynb)."
   ]
  },
  {
   "cell_type": "markdown",
   "metadata": {},
   "source": [
    "## Q2. Preparing the output"
   ]
  },
  {
   "cell_type": "markdown",
   "metadata": {},
   "source": [
    "The size of the output parquet file is approximately of `39 MB`.\n",
    "\n",
    "Refer to [ride-duration-prediction](ride-duration-prediction.ipynb)."
   ]
  },
  {
   "cell_type": "markdown",
   "metadata": {},
   "source": [
    "## Q3. Creating the scoring script"
   ]
  },
  {
   "cell_type": "markdown",
   "metadata": {},
   "source": [
    "To convert the jupyter notebook into a python script the `jupyter nbconvert --to script <notebook_file.ipynb> --output <python_file.py>` command has to be used.\n",
    "\n",
    "Refer to [ride-duration-prediction](ride-duration-prediction.ipynb)"
   ]
  },
  {
   "cell_type": "markdown",
   "metadata": {},
   "source": [
    "## Q4. Virtual environment"
   ]
  },
  {
   "cell_type": "code",
   "execution_count": 4,
   "metadata": {},
   "outputs": [
    {
     "data": {
      "text/plain": [
       "'sha256:08ef968f6b72033c16c479c966bf37ccd49b06ea91b765e1cc27afefe723920b'"
      ]
     },
     "execution_count": 4,
     "metadata": {},
     "output_type": "execute_result"
    }
   ],
   "source": [
    "with open(\"../Pipfile.lock\", \"r\") as read_file:\n",
    "    scores = json.load(read_file)\n",
    "\n",
    "first_hash = scores[\"default\"][\"scikit-learn\"][\"hashes\"][0]\n",
    "first_hash"
   ]
  },
  {
   "cell_type": "markdown",
   "metadata": {},
   "source": [
    "The first hash for the Scikit-Learn dependency is `sha256:08ef968f6b72033c16c479c966bf37ccd49b06ea91b765e1cc27afefe723920b`."
   ]
  },
  {
   "cell_type": "markdown",
   "metadata": {},
   "source": [
    "## Q5. Parametrize the script"
   ]
  },
  {
   "cell_type": "markdown",
   "metadata": {},
   "source": [
    "The mean of the predicted duration for the `fhv_tripdata_2021-03.parquet` dataset is `16.298821598819046`.\n",
    "\n",
    "Refer to [ride-duration](../scripts/ride-duration.py.py)."
   ]
  },
  {
   "cell_type": "markdown",
   "metadata": {},
   "source": [
    "## Q6. Docker container"
   ]
  },
  {
   "cell_type": "code",
   "execution_count": 8,
   "metadata": {},
   "outputs": [
    {
     "name": "stdout",
     "output_type": "stream",
     "text": [
      "Making the predictions ... \n",
      "The mean predicted duration is 9.967573179784523\n"
     ]
    }
   ],
   "source": [
    "!docker run --rm mlops/zoomcamp/ride_prediction:1.0 -y 2021 -m 4"
   ]
  },
  {
   "cell_type": "markdown",
   "metadata": {},
   "source": [
    "The mean of the predicted duration for the `fhv_tripdata_2021-04.parquet` dataset is `9.967573179784523`."
   ]
  }
 ],
 "metadata": {
  "kernelspec": {
   "display_name": "Python 3.8.9 ('venv': venv)",
   "language": "python",
   "name": "python3"
  },
  "language_info": {
   "codemirror_mode": {
    "name": "ipython",
    "version": 3
   },
   "file_extension": ".py",
   "mimetype": "text/x-python",
   "name": "python",
   "nbconvert_exporter": "python",
   "pygments_lexer": "ipython3",
   "version": "3.8.9"
  },
  "orig_nbformat": 4,
  "vscode": {
   "interpreter": {
    "hash": "6b34482e07756c7b24512b63eb423d10b52046eb700631418984770c5d28ba4d"
   }
  }
 },
 "nbformat": 4,
 "nbformat_minor": 2
}
