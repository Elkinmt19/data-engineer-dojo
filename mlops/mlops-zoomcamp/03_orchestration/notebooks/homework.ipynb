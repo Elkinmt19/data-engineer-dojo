{
 "cells": [
  {
   "cell_type": "markdown",
   "metadata": {},
   "source": [
    "# Homework solution - 03 workflow orchestration\n",
    "\n",
    "In this notebook are the answers of the homework of the module 03 of the course (Workflow Orchestration)."
   ]
  },
  {
   "cell_type": "markdown",
   "metadata": {},
   "source": [
    "## Q1. Converting the script to a Prefect flow"
   ]
  },
  {
   "cell_type": "markdown",
   "metadata": {},
   "source": [
    "The one task that has to be called using the `.result` method inside the flow is `train_model`.\n",
    "\n",
    "Refer to [training_fhv_model.py](../scripts/training_fhv_model.py)"
   ]
  },
  {
   "cell_type": "markdown",
   "metadata": {},
   "source": [
    "## Q2. Parameterizing the flow"
   ]
  },
  {
   "cell_type": "markdown",
   "metadata": {},
   "source": [
    "The validation RMSE is `11.637`, this result was got from the following prefect log:\n",
    "\n",
    "```bash \n",
    "<timestamp> | INFO    | Task run 'run_model-6559300c-0' - The MSE of validation is: 11.637032699898606\n",
    "```\n",
    "Refer to [training_fhv_model.py](../scripts/training_fhv_model.py)"
   ]
  },
  {
   "cell_type": "markdown",
   "metadata": {},
   "source": [
    "## Q3. Saving the model and artifacts"
   ]
  },
  {
   "cell_type": "markdown",
   "metadata": {},
   "source": [
    "The size of the `DictVectorizer` object that was trained at the date 2021-08-15 is `12.88KB` or `13000 bytes`."
   ]
  },
  {
   "cell_type": "markdown",
   "metadata": {},
   "source": [
    "## Q4. Creating a deployment with a CronSchedule"
   ]
  },
  {
   "cell_type": "markdown",
   "metadata": {},
   "source": [
    "The Cron expression to run a flow at 9 AM every 15th of the month is `[0 9 15 * *]`. "
   ]
  },
  {
   "cell_type": "markdown",
   "metadata": {},
   "source": [
    "## Q5. Viewing the Deployment"
   ]
  },
  {
   "cell_type": "markdown",
   "metadata": {},
   "source": [
    "The number of upcoming runs that i got in the prefect ui dashboard is `3`."
   ]
  },
  {
   "cell_type": "markdown",
   "metadata": {},
   "source": [
    "## Q6. Creating a work-queue"
   ]
  },
  {
   "cell_type": "markdown",
   "metadata": {},
   "source": [
    "The prefect command to view the available work-queues is `prefect work-queue ls`."
   ]
  }
 ],
 "metadata": {
  "interpreter": {
   "hash": "6b34482e07756c7b24512b63eb423d10b52046eb700631418984770c5d28ba4d"
  },
  "kernelspec": {
   "display_name": "Python 3.8.9 ('venv': venv)",
   "language": "python",
   "name": "python3"
  },
  "language_info": {
   "codemirror_mode": {
    "name": "ipython",
    "version": 3
   },
   "file_extension": ".py",
   "mimetype": "text/x-python",
   "name": "python",
   "nbconvert_exporter": "python",
   "pygments_lexer": "ipython3",
   "version": "3.8.9"
  },
  "orig_nbformat": 4
 },
 "nbformat": 4,
 "nbformat_minor": 2
}
